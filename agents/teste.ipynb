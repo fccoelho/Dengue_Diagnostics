{
 "cells": [
  {
   "cell_type": "code",
   "id": "initial_id",
   "metadata": {
    "collapsed": true,
    "ExecuteTime": {
     "end_time": "2024-11-14T21:27:35.368303Z",
     "start_time": "2024-11-14T21:27:35.356890Z"
    }
   },
   "source": "import pickle",
   "outputs": [],
   "execution_count": 4
  },
  {
   "metadata": {
    "ExecuteTime": {
     "end_time": "2024-11-14T21:27:34.070522Z",
     "start_time": "2024-11-14T21:27:31.033144Z"
    }
   },
   "cell_type": "code",
   "source": "import pandas as pd",
   "id": "39da1a4ac0df60eb",
   "outputs": [],
   "execution_count": 2
  },
  {
   "metadata": {
    "ExecuteTime": {
     "end_time": "2024-11-14T21:27:35.243684Z",
     "start_time": "2024-11-14T21:27:35.222949Z"
    }
   },
   "cell_type": "code",
   "source": "df = pd.read_pickle('final_q_table.pkl')",
   "id": "7d414cb73243cf9",
   "outputs": [],
   "execution_count": 3
  },
  {
   "metadata": {
    "ExecuteTime": {
     "end_time": "2024-11-14T21:38:35.343823Z",
     "start_time": "2024-11-14T21:38:35.333701Z"
    }
   },
   "cell_type": "code",
   "source": [
    "with open('final_q_table.pkl', \"rb\") as f:\n",
    "    q_table = pickle.load(f)"
   ],
   "id": "59b7108cc94fff81",
   "outputs": [],
   "execution_count": 12
  },
  {
   "metadata": {
    "ExecuteTime": {
     "end_time": "2024-11-14T21:38:43.345215Z",
     "start_time": "2024-11-14T21:38:43.338032Z"
    }
   },
   "cell_type": "code",
   "source": "len(q_table)",
   "id": "72c1d3fdea66d7c7",
   "outputs": [
    {
     "data": {
      "text/plain": [
       "279"
      ]
     },
     "execution_count": 13,
     "metadata": {},
     "output_type": "execute_result"
    }
   ],
   "execution_count": 13
  }
 ],
 "metadata": {
  "kernelspec": {
   "display_name": "Python 3",
   "language": "python",
   "name": "python3"
  },
  "language_info": {
   "codemirror_mode": {
    "name": "ipython",
    "version": 2
   },
   "file_extension": ".py",
   "mimetype": "text/x-python",
   "name": "python",
   "nbconvert_exporter": "python",
   "pygments_lexer": "ipython2",
   "version": "2.7.6"
  }
 },
 "nbformat": 4,
 "nbformat_minor": 5
}
